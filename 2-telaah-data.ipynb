{
 "cells": [
  {
   "cell_type": "markdown",
   "metadata": {},
   "source": [
    "# Apa itu telaah data?"
   ]
  },
  {
   "cell_type": "markdown",
   "metadata": {},
   "source": [
    "Telaah data merujuk pada proses pengumpulan, pembersihan, eksplorasi, dan analisis data untuk mendapatkan pemahaman yang lebih yang terkandung dalam data tersebut. Tujuan dari telaah data adalah mendukung pengambilan keputusan berdasarkan bukti yang ditemukan dalam data."
   ]
  },
  {
   "cell_type": "markdown",
   "metadata": {},
   "source": [
    "# Data Understanding"
   ]
  },
  {
   "cell_type": "markdown",
   "metadata": {},
   "source": [
    "Di bidang machine learning, ada sebuah mantra yang semua data scientists harus ikuti; Garbage in, garbage out. Artinya, jika data yang dimasukkan ke model itu jelek, maka apapun yang terjadi, hasil dari model akan selalu jelek.\n",
    "Semua data yang kita dapatkan belum tentu bagus dan bisa kita olah lebih lanjut karena:\n",
    "\n",
    "- Maksud dan tujuan data berbeda\n",
    "- Keadaan data terlalu terpisah, atau terlalu terintegrasi\n",
    "- Kekayaan atau value data berbeda beda\n",
    "- Keandalan atau reliability data berbeda beda"
   ]
  },
  {
   "cell_type": "markdown",
   "metadata": {},
   "source": [
    "# Struktur Data"
   ]
  },
  {
   "cell_type": "markdown",
   "metadata": {},
   "source": [
    "1. Structured\n",
    "\n",
    "Data terstruktur adalah jenis data yang memiliki format atau skema yang terorganisir dengan jelas. Setiap kolom dalam data terstruktur memiliki tipe data yang konsisten, dan setiap baris berisi entitas atau objek yang serupa.\n",
    "\n",
    "Contoh data terstruktur meliputi :\n",
    "\n",
    "- Tabular Data\n",
    "- Object Oriented Data\n",
    "- Time-series data"
   ]
  },
  {
   "cell_type": "markdown",
   "metadata": {},
   "source": [
    "\n",
    "2. Unstructured\n",
    "\n",
    "Data tidak terstruktur merujuk pada jenis data yang tidak memiliki format atau skema yang terorganisir dengan jelas. Data ini seringkali memiliki struktur yang tidak teratur atau tidak terprediksi, sehingga sulit untuk mengklasifikasikan, mengatur, atau memodelkannya secara tradisional.\n",
    "\n",
    "Contoh data tidak terstruktur meliputi :\n",
    "\n",
    "- Video atau audio\n",
    "- Dokumen HTML\n",
    "- Tweet atau postingan sosial media"
   ]
  },
  {
   "cell_type": "markdown",
   "metadata": {},
   "source": [
    "# Sumber Data"
   ]
  },
  {
   "cell_type": "markdown",
   "metadata": {},
   "source": [
    "1. Internal\n",
    "\n",
    "Data internal merupakan data yang sumbernya berasal dari dalam pihak yang dijadikan objek penelitian. Sumber data internal biasanya dihasilkan oleh perusahaan sendiri atau oleh perusahaan lain yang terkait dengan perusahaan tersebut. Contoh data meliputi :\n",
    "\n",
    "- Spreadsheet (excel, csv, json)\n",
    "- Database (sql)\n",
    "- Teks (txt, rtf)\n",
    "- Media (video, audio)"
   ]
  },
  {
   "cell_type": "markdown",
   "metadata": {},
   "source": [
    "2. External\n",
    "\n",
    "Data eksternal merupakan data yang sumbernya berasal dari luar pihak objek yang diteliti. Sumber data eksernal biasanya didapatkan dari repositori data publik dan halaman web publik. Contoh data meliputi :\n",
    "\n",
    "- Website repository data (Kaggle, sklearn)\n",
    "- Web page domain public (wikipedia, dbdata, data.go.id)\n",
    "- Public Dataset (worldbank, UNICEF, WHO)"
   ]
  },
  {
   "cell_type": "markdown",
   "metadata": {},
   "source": [
    "## Daftar Sumber Data Daring\n",
    "\n",
    "<li><a href=\"https://data.go.id/\">Portal Satu Data Indonesia</a></li>\n",
    "<li><a href=\"https://data.jakarta.go.id\">Portal Data Jakarta</a></li>\n",
    "<li><a href=\"http://data.bandung.go.id\">Portal Data Bandung</a></li>\n",
    "<li><a href=\"https://www.bps.go.id\">Badan Pusat Statistik</a></li>\n",
    "<li><a href=\"https://tanahair.indonesia.go.id/\">Badan Informasi Geospasial</a></li>\n",
    "<li><a href=\"https://archive.ics.uci.edu/ml/index.php\">UCI Machine Learning repository</a></li>\n",
    "<li><a href=\"https://www.kaggle.com/datasets\">Kaggle</a><br></li>\n",
    "<li><a href=\"https://data.worldbank.org\">World Bank Open Data</a></li>"
   ]
  },
  {
   "cell_type": "markdown",
   "metadata": {},
   "source": [
    "# Tipe Data"
   ]
  },
  {
   "cell_type": "markdown",
   "metadata": {},
   "source": [
    "1. Tipe Data Berdasarkan Sifatnya\n",
    "- Data dikotomi, merupakan data yang bersifat pilah satu sama lain, misalnya suku, agama, jenis kelamin, pendidikan, dan lain sebagainya.\n",
    "- Data diskrit, merupakan data yang proses pengumpulan datanya dijalankan dengan cara menghitung atau membilang. Seperti, jumlah anak, jumlah penduduk, jumlah kematian dan sebagainya.\n",
    "- Data kontinum, merupakan data pengumpulan datanya didapatkan dengan cara mengukur dengan alat ukur yang memakai skala tertentu. Seperti misalnya, Suhu, berat, bakat, kecerdasan, dan lainnya."
   ]
  },
  {
   "cell_type": "markdown",
   "metadata": {},
   "source": [
    "2. Tipe Data Berdasarkan Cara Pengumpulan\n",
    "- Data primer, merupakan data yang didapatkan dari sumber pertama, atau dapat dikatakan pengumpulannya dilakukan sendiri oleh si peneliti secara langsung, seperti hasil wawancara dan hasil pengisian kuesioner (angket).\n",
    "- Data sekunder, merupakan data yang didapatkan dari sumber kedua. Menurut Purwanto (2007), data sekunder yaitu data yang dikumpulkan oleh orang atau lembaga lain. Data sekunder adalah data yang digunakan atau diterbitkan oleh organisasi yang bukan pengolahnya (Soeratno dan Arsyad (2003;76)."
   ]
  },
  {
   "cell_type": "markdown",
   "metadata": {},
   "source": [
    "3. Tipe Data Berdasarkan Seri Waktu\n",
    "- Data Cross Section, Data cross-section adalah data yang menunjukkan titik waktu tertentu. Contohnya laporan keuangan per 31 Desember 2020, data pelanggan PT. Data Indah bulan mei 2004, dan lain sebagainya.\n",
    "- Data Time Series / Berkala, Data berkala adalah data yang datanya menggambarkan sesuatu dari waktu ke waktu atau periode secara historis. Contoh data time series adalah data perkembangan nilai tukar dollar amerika terhadap rupiah tahun 2016 - 2020."
   ]
  },
  {
   "cell_type": "markdown",
   "metadata": {},
   "source": [
    "# Pengambilan Data\n",
    "\n",
    "Ada beberapa Cara untuk mengambil data, yaitu:"
   ]
  },
  {
   "cell_type": "markdown",
   "metadata": {},
   "source": [
    "<img src=\"img/pengambilandata.png\" style=\"height:200px\" /> "
   ]
  },
  {
   "cell_type": "markdown",
   "metadata": {},
   "source": [
    "1. Web Scraping\n",
    "\n",
    "Web scraping artinya mengekstraksi data secara langsung dari suatu halaman web.\n",
    "Langkah-langkah umum (contoh detil dapat dilihat di https://realpython.com/beautiful-soup-web-scraper-python)"
   ]
  },
  {
   "cell_type": "markdown",
   "metadata": {},
   "source": [
    "2. API\n",
    "\n",
    "Contoh melalui API Kaggle (pip install kaggle)\n",
    "\n",
    "(kaggle datasets download -d mauryansshivam/paytm-revenue-users-transactions)\n",
    "\n",
    "Contoh melalui API Portal Data Bandung \n",
    "\n",
    "(http://data.bandung.go.id/index.php/portal/api/1db4a0cc-dc0f-4362-91f1-d0ad1b4bce98"
   ]
  }
 ],
 "metadata": {
  "language_info": {
   "name": "python"
  }
 },
 "nbformat": 4,
 "nbformat_minor": 2
}
