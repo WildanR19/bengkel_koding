{
 "cells": [
  {
   "cell_type": "markdown",
   "metadata": {},
   "source": [
    "# Missing Value\n",
    "\n",
    "Mising Value merupakan data yang kosong atau tidak lengkap."
   ]
  },
  {
   "cell_type": "markdown",
   "metadata": {},
   "source": [
    "## Menghapus baris atau kolom yang memiliki missing value"
   ]
  },
  {
   "cell_type": "code",
   "execution_count": 1,
   "metadata": {},
   "outputs": [],
   "source": [
    "import pandas as pd"
   ]
  },
  {
   "cell_type": "code",
   "execution_count": 2,
   "metadata": {},
   "outputs": [
    {
     "name": "stdout",
     "output_type": "stream",
     "text": [
      "Dataset sebelum penghapusan:\n",
      "     A    B     C\n",
      "0  1.0  5.0   9.0\n",
      "1  2.0  NaN  10.0\n",
      "2  NaN  7.0  11.0\n",
      "3  4.0  8.0   NaN\n",
      "\n",
      "Dataset setelah menghapus baris yang memiliki nilai yang hilang:\n",
      "     A    B    C\n",
      "0  1.0  5.0  9.0\n",
      "\n",
      "Dataset setelah menghapus kolom yang memiliki nilai yang hilang:\n",
      "Empty DataFrame\n",
      "Columns: []\n",
      "Index: [0, 1, 2, 3]\n"
     ]
    }
   ],
   "source": [
    "# Tanpa Menggunakan Dataset\n",
    "\n",
    "# Contoh dataset dengan nilai yang hilang\n",
    "data = {\n",
    "    'A': [1, 2, None, 4],\n",
    "    'B': [5, None, 7, 8],\n",
    "    'C': [9, 10, 11, None]\n",
    "}\n",
    "df = pd.DataFrame(data)\n",
    "\n",
    "# Tampilkan dataset sebelum penghapusan\n",
    "print(\"Dataset sebelum penghapusan:\")\n",
    "print(df)\n",
    "\n",
    "# Hapus baris yang memiliki nilai yang hilang\n",
    "df_cleaned_rows = df.dropna()\n",
    "print(\"\\nDataset setelah menghapus baris yang memiliki nilai yang hilang:\")\n",
    "print(df_cleaned_rows)\n",
    "\n",
    "# Hapus kolom yang memiliki nilai yang hilang\n",
    "df_cleaned_cols = df.dropna(axis=1)\n",
    "print(\"\\nDataset setelah menghapus kolom yang memiliki nilai yang hilang:\")\n",
    "print(df_cleaned_cols)"
   ]
  },
  {
   "cell_type": "code",
   "execution_count": 3,
   "metadata": {},
   "outputs": [
    {
     "name": "stdout",
     "output_type": "stream",
     "text": [
      "Informasi tentang dataset Titanic:\n",
      "<class 'pandas.core.frame.DataFrame'>\n",
      "RangeIndex: 891 entries, 0 to 890\n",
      "Data columns (total 12 columns):\n",
      " #   Column       Non-Null Count  Dtype  \n",
      "---  ------       --------------  -----  \n",
      " 0   PassengerId  891 non-null    int64  \n",
      " 1   Survived     891 non-null    int64  \n",
      " 2   Pclass       891 non-null    int64  \n",
      " 3   Name         891 non-null    object \n",
      " 4   Sex          891 non-null    object \n",
      " 5   Age          714 non-null    float64\n",
      " 6   SibSp        891 non-null    int64  \n",
      " 7   Parch        891 non-null    int64  \n",
      " 8   Ticket       891 non-null    object \n",
      " 9   Fare         891 non-null    float64\n",
      " 10  Cabin        204 non-null    object \n",
      " 11  Embarked     889 non-null    object \n",
      "dtypes: float64(2), int64(5), object(5)\n",
      "memory usage: 83.7+ KB\n",
      "None\n",
      "\n",
      "Dataset Titanic setelah menghapus baris yang memiliki nilai yang hilang:\n",
      "     PassengerId  Survived  Pclass  \\\n",
      "1              2         1       1   \n",
      "3              4         1       1   \n",
      "6              7         0       1   \n",
      "10            11         1       3   \n",
      "11            12         1       1   \n",
      "..           ...       ...     ...   \n",
      "871          872         1       1   \n",
      "872          873         0       1   \n",
      "879          880         1       1   \n",
      "887          888         1       1   \n",
      "889          890         1       1   \n",
      "\n",
      "                                                  Name     Sex   Age  SibSp  \\\n",
      "1    Cumings, Mrs. John Bradley (Florence Briggs Th...  female  38.0      1   \n",
      "3         Futrelle, Mrs. Jacques Heath (Lily May Peel)  female  35.0      1   \n",
      "6                              McCarthy, Mr. Timothy J    male  54.0      0   \n",
      "10                     Sandstrom, Miss. Marguerite Rut  female   4.0      1   \n",
      "11                            Bonnell, Miss. Elizabeth  female  58.0      0   \n",
      "..                                                 ...     ...   ...    ...   \n",
      "871   Beckwith, Mrs. Richard Leonard (Sallie Monypeny)  female  47.0      1   \n",
      "872                           Carlsson, Mr. Frans Olof    male  33.0      0   \n",
      "879      Potter, Mrs. Thomas Jr (Lily Alexenia Wilson)  female  56.0      0   \n",
      "887                       Graham, Miss. Margaret Edith  female  19.0      0   \n",
      "889                              Behr, Mr. Karl Howell    male  26.0      0   \n",
      "\n",
      "     Parch    Ticket     Fare        Cabin Embarked  \n",
      "1        0  PC 17599  71.2833          C85        C  \n",
      "3        0    113803  53.1000         C123        S  \n",
      "6        0     17463  51.8625          E46        S  \n",
      "10       1   PP 9549  16.7000           G6        S  \n",
      "11       0    113783  26.5500         C103        S  \n",
      "..     ...       ...      ...          ...      ...  \n",
      "871      1     11751  52.5542          D35        S  \n",
      "872      0       695   5.0000  B51 B53 B55        S  \n",
      "879      1     11767  83.1583          C50        C  \n",
      "887      0    112053  30.0000          B42        S  \n",
      "889      0    111369  30.0000         C148        C  \n",
      "\n",
      "[183 rows x 12 columns]\n",
      "\n",
      "Dataset Titanic setelah menghapus kolom yang memiliki nilai yang hilang:\n",
      "     PassengerId  Survived  Pclass  \\\n",
      "0              1         0       3   \n",
      "1              2         1       1   \n",
      "2              3         1       3   \n",
      "3              4         1       1   \n",
      "4              5         0       3   \n",
      "..           ...       ...     ...   \n",
      "886          887         0       2   \n",
      "887          888         1       1   \n",
      "888          889         0       3   \n",
      "889          890         1       1   \n",
      "890          891         0       3   \n",
      "\n",
      "                                                  Name     Sex  SibSp  Parch  \\\n",
      "0                              Braund, Mr. Owen Harris    male      1      0   \n",
      "1    Cumings, Mrs. John Bradley (Florence Briggs Th...  female      1      0   \n",
      "2                               Heikkinen, Miss. Laina  female      0      0   \n",
      "3         Futrelle, Mrs. Jacques Heath (Lily May Peel)  female      1      0   \n",
      "4                             Allen, Mr. William Henry    male      0      0   \n",
      "..                                                 ...     ...    ...    ...   \n",
      "886                              Montvila, Rev. Juozas    male      0      0   \n",
      "887                       Graham, Miss. Margaret Edith  female      0      0   \n",
      "888           Johnston, Miss. Catherine Helen \"Carrie\"  female      1      2   \n",
      "889                              Behr, Mr. Karl Howell    male      0      0   \n",
      "890                                Dooley, Mr. Patrick    male      0      0   \n",
      "\n",
      "               Ticket     Fare  \n",
      "0           A/5 21171   7.2500  \n",
      "1            PC 17599  71.2833  \n",
      "2    STON/O2. 3101282   7.9250  \n",
      "3              113803  53.1000  \n",
      "4              373450   8.0500  \n",
      "..                ...      ...  \n",
      "886            211536  13.0000  \n",
      "887            112053  30.0000  \n",
      "888        W./C. 6607  23.4500  \n",
      "889            111369  30.0000  \n",
      "890            370376   7.7500  \n",
      "\n",
      "[891 rows x 9 columns]\n"
     ]
    }
   ],
   "source": [
    "# Menggunakan Dataset\n",
    "\n",
    "# Load dataset Titanic dari file CSV\n",
    "titanic_df = pd.read_csv(\"dataset/titanic.csv\")\n",
    "\n",
    "# Tampilkan informasi mengenai dataset, termasuk jumlah nilai yang hilang di setiap kolom\n",
    "print(\"Informasi tentang dataset Titanic:\")\n",
    "print(titanic_df.info())\n",
    "\n",
    "# Hapus baris yang memiliki nilai yang hilang\n",
    "titanic_cleaned_rows = titanic_df.dropna()\n",
    "print(\"\\nDataset Titanic setelah menghapus baris yang memiliki nilai yang hilang:\")\n",
    "print(titanic_cleaned_rows)\n",
    "\n",
    "# Hapus kolom yang memiliki nilai yang hilang\n",
    "titanic_cleaned_cols = titanic_df.dropna(axis=1)\n",
    "print(\"\\nDataset Titanic setelah menghapus kolom yang memiliki nilai yang hilang:\")\n",
    "print(titanic_cleaned_cols)"
   ]
  },
  {
   "cell_type": "markdown",
   "metadata": {},
   "source": [
    "## Mengisi nilai kosong dengan nilai rata-rata atau median\n"
   ]
  },
  {
   "cell_type": "code",
   "execution_count": 4,
   "metadata": {},
   "outputs": [
    {
     "name": "stdout",
     "output_type": "stream",
     "text": [
      "Informasi tentang dataset Titanic sebelum pengisian nilai kosong:\n",
      "<class 'pandas.core.frame.DataFrame'>\n",
      "RangeIndex: 891 entries, 0 to 890\n",
      "Data columns (total 12 columns):\n",
      " #   Column       Non-Null Count  Dtype  \n",
      "---  ------       --------------  -----  \n",
      " 0   PassengerId  891 non-null    int64  \n",
      " 1   Survived     891 non-null    int64  \n",
      " 2   Pclass       891 non-null    int64  \n",
      " 3   Name         891 non-null    object \n",
      " 4   Sex          891 non-null    object \n",
      " 5   Age          714 non-null    float64\n",
      " 6   SibSp        891 non-null    int64  \n",
      " 7   Parch        891 non-null    int64  \n",
      " 8   Ticket       891 non-null    object \n",
      " 9   Fare         891 non-null    float64\n",
      " 10  Cabin        204 non-null    object \n",
      " 11  Embarked     889 non-null    object \n",
      "dtypes: float64(2), int64(5), object(5)\n",
      "memory usage: 83.7+ KB\n",
      "None\n",
      "\n",
      "Informasi tentang dataset Titanic setelah pengisian nilai kosong:\n",
      "<class 'pandas.core.frame.DataFrame'>\n",
      "RangeIndex: 891 entries, 0 to 890\n",
      "Data columns (total 12 columns):\n",
      " #   Column       Non-Null Count  Dtype  \n",
      "---  ------       --------------  -----  \n",
      " 0   PassengerId  891 non-null    int64  \n",
      " 1   Survived     891 non-null    int64  \n",
      " 2   Pclass       891 non-null    int64  \n",
      " 3   Name         891 non-null    object \n",
      " 4   Sex          891 non-null    object \n",
      " 5   Age          891 non-null    float64\n",
      " 6   SibSp        891 non-null    int64  \n",
      " 7   Parch        891 non-null    int64  \n",
      " 8   Ticket       891 non-null    object \n",
      " 9   Fare         891 non-null    float64\n",
      " 10  Cabin        204 non-null    object \n",
      " 11  Embarked     889 non-null    object \n",
      "dtypes: float64(2), int64(5), object(5)\n",
      "memory usage: 83.7+ KB\n",
      "None\n"
     ]
    }
   ],
   "source": [
    "# Load dataset Titanic dari file CSV\n",
    "titanic_df2 = pd.read_csv(\"dataset/titanic.csv\")\n",
    "\n",
    "# Tampilkan informasi mengenai dataset, termasuk jumlah nilai yang hilang di setiap kolom\n",
    "print(\"Informasi tentang dataset Titanic sebelum pengisian nilai kosong:\")\n",
    "print(titanic_df2.info())\n",
    "\n",
    "# Mengisi nilai kosong pada kolom 'Age' dengan nilai median dari kolom tersebut\n",
    "age_median = titanic_df2['Age'].median()\n",
    "titanic_df2['Age'].fillna(age_median, inplace=True)\n",
    "\n",
    "# Mengisi nilai kosong pada kolom 'Fare' dengan nilai rata-rata dari kolom tersebut\n",
    "fare_mean = titanic_df2['Fare'].mean()\n",
    "titanic_df2['Fare'].fillna(fare_mean, inplace=True)\n",
    "\n",
    "# Tampilkan informasi tentang dataset setelah pengisian nilai kosong\n",
    "print(\"\\nInformasi tentang dataset Titanic setelah pengisian nilai kosong:\")\n",
    "print(titanic_df2.info())"
   ]
  },
  {
   "cell_type": "markdown",
   "metadata": {},
   "source": [
    "## Mengisi nilai kosong dengan nilai yang sering muncul"
   ]
  },
  {
   "cell_type": "code",
   "execution_count": 5,
   "metadata": {},
   "outputs": [
    {
     "name": "stdout",
     "output_type": "stream",
     "text": [
      "Informasi tentang dataset Titanic sebelum pengisian nilai kosong:\n",
      "<class 'pandas.core.frame.DataFrame'>\n",
      "RangeIndex: 891 entries, 0 to 890\n",
      "Data columns (total 12 columns):\n",
      " #   Column       Non-Null Count  Dtype  \n",
      "---  ------       --------------  -----  \n",
      " 0   PassengerId  891 non-null    int64  \n",
      " 1   Survived     891 non-null    int64  \n",
      " 2   Pclass       891 non-null    int64  \n",
      " 3   Name         891 non-null    object \n",
      " 4   Sex          891 non-null    object \n",
      " 5   Age          714 non-null    float64\n",
      " 6   SibSp        891 non-null    int64  \n",
      " 7   Parch        891 non-null    int64  \n",
      " 8   Ticket       891 non-null    object \n",
      " 9   Fare         891 non-null    float64\n",
      " 10  Cabin        204 non-null    object \n",
      " 11  Embarked     889 non-null    object \n",
      "dtypes: float64(2), int64(5), object(5)\n",
      "memory usage: 83.7+ KB\n",
      "None\n",
      "\n",
      "Informasi tentang dataset Titanic setelah pengisian nilai kosong:\n",
      "<class 'pandas.core.frame.DataFrame'>\n",
      "RangeIndex: 891 entries, 0 to 890\n",
      "Data columns (total 12 columns):\n",
      " #   Column       Non-Null Count  Dtype  \n",
      "---  ------       --------------  -----  \n",
      " 0   PassengerId  891 non-null    int64  \n",
      " 1   Survived     891 non-null    int64  \n",
      " 2   Pclass       891 non-null    int64  \n",
      " 3   Name         891 non-null    object \n",
      " 4   Sex          891 non-null    object \n",
      " 5   Age          714 non-null    float64\n",
      " 6   SibSp        891 non-null    int64  \n",
      " 7   Parch        891 non-null    int64  \n",
      " 8   Ticket       891 non-null    object \n",
      " 9   Fare         891 non-null    float64\n",
      " 10  Cabin        204 non-null    object \n",
      " 11  Embarked     891 non-null    object \n",
      "dtypes: float64(2), int64(5), object(5)\n",
      "memory usage: 83.7+ KB\n",
      "None\n"
     ]
    }
   ],
   "source": [
    "# Load dataset Titanic dari file CSV\n",
    "titanic_df3 = pd.read_csv(\"dataset/titanic.csv\")\n",
    "\n",
    "# Tampilkan informasi mengenai dataset, termasuk jumlah nilai yang hilang di setiap kolom sebelum pengisian\n",
    "print(\"Informasi tentang dataset Titanic sebelum pengisian nilai kosong:\")\n",
    "print(titanic_df3.info())\n",
    "\n",
    "# Mengisi nilai kosong pada kolom 'Embarked' dengan nilai yang sering muncul (mode) dari kolom tersebut\n",
    "embarked_mode = titanic_df3['Embarked'].mode()[0]\n",
    "titanic_df3['Embarked'].fillna(embarked_mode, inplace=True)\n",
    "\n",
    "# Tampilkan informasi tentang dataset setelah pengisian nilai kosong\n",
    "print(\"\\nInformasi tentang dataset Titanic setelah pengisian nilai kosong:\")\n",
    "print(titanic_df3.info())"
   ]
  },
  {
   "cell_type": "markdown",
   "metadata": {},
   "source": [
    "## Menghapus Outlier\n",
    "\n",
    "Outlier merupakan data yang jauh dari nilai rata-rata atau nilai normal. Outlier dapat mempengaruhi hasil analisis dan machine learning."
   ]
  },
  {
   "cell_type": "code",
   "execution_count": 6,
   "metadata": {},
   "outputs": [],
   "source": [
    "from sklearn.datasets import load_iris\n",
    "from scipy import stats"
   ]
  },
  {
   "cell_type": "code",
   "execution_count": 7,
   "metadata": {},
   "outputs": [
    {
     "name": "stdout",
     "output_type": "stream",
     "text": [
      "Informasi tentang dataset Iris sebelum penghapusan outlier:\n",
      "       sepal length (cm)  sepal width (cm)  petal length (cm)  \\\n",
      "count         150.000000        150.000000         150.000000   \n",
      "mean            5.843333          3.057333           3.758000   \n",
      "std             0.828066          0.435866           1.765298   \n",
      "min             4.300000          2.000000           1.000000   \n",
      "25%             5.100000          2.800000           1.600000   \n",
      "50%             5.800000          3.000000           4.350000   \n",
      "75%             6.400000          3.300000           5.100000   \n",
      "max             7.900000          4.400000           6.900000   \n",
      "\n",
      "       petal width (cm)  \n",
      "count        150.000000  \n",
      "mean           1.199333  \n",
      "std            0.762238  \n",
      "min            0.100000  \n",
      "25%            0.300000  \n",
      "50%            1.300000  \n",
      "75%            1.800000  \n",
      "max            2.500000  \n",
      "\n",
      "Informasi tentang dataset Iris setelah penghapusan outlier:\n",
      "       sepal length (cm)  sepal width (cm)  petal length (cm)  \\\n",
      "count         149.000000        149.000000         149.000000   \n",
      "mean            5.844295          3.048322           3.773154   \n",
      "std             0.830775          0.423085           1.761435   \n",
      "min             4.300000          2.000000           1.000000   \n",
      "25%             5.100000          2.800000           1.600000   \n",
      "50%             5.800000          3.000000           4.400000   \n",
      "75%             6.400000          3.300000           5.100000   \n",
      "max             7.900000          4.200000           6.900000   \n",
      "\n",
      "       petal width (cm)  \n",
      "count        149.000000  \n",
      "mean           1.204698  \n",
      "std            0.761962  \n",
      "min            0.100000  \n",
      "25%            0.300000  \n",
      "50%            1.300000  \n",
      "75%            1.800000  \n",
      "max            2.500000  \n"
     ]
    }
   ],
   "source": [
    "# Load dataset Iris dari scikit-learn\n",
    "data = load_iris()\n",
    "iris_df = pd.DataFrame(data.data, columns=data.feature_names)\n",
    "\n",
    "# Tampilkan informasi tentang dataset Iris sebelum penghapusan outlier\n",
    "print(\"Informasi tentang dataset Iris sebelum penghapusan outlier:\")\n",
    "print(iris_df.describe())\n",
    "\n",
    "# Definisikan fungsi untuk menghapus outlier berdasarkan z-score\n",
    "def remove_outliers_zscore(df, z_threshold=3):\n",
    "    z_scores = stats.zscore(df)\n",
    "    return df[(z_scores < z_threshold).all(axis=1)]\n",
    "\n",
    "# Hapus outlier dari dataset Iris berdasarkan z-score\n",
    "iris_cleaned = remove_outliers_zscore(iris_df)\n",
    "\n",
    "# Tampilkan informasi tentang dataset Iris setelah penghapusan outlier\n",
    "print(\"\\nInformasi tentang dataset Iris setelah penghapusan outlier:\")\n",
    "print(iris_cleaned.describe())"
   ]
  },
  {
   "cell_type": "markdown",
   "metadata": {},
   "source": [
    "## Menggantikan nilai outlier dengan nilai lain seperti nilai rata-rata atau median."
   ]
  },
  {
   "cell_type": "code",
   "execution_count": 8,
   "metadata": {},
   "outputs": [
    {
     "name": "stdout",
     "output_type": "stream",
     "text": [
      "       0    1    2    3               4\n",
      "0    5.1  3.5  1.4  0.2     Iris-setosa\n",
      "1    4.9  3.0  1.4  0.2     Iris-setosa\n",
      "2    4.7  3.2  1.3  0.2     Iris-setosa\n",
      "3    4.6  3.1  1.5  0.2     Iris-setosa\n",
      "4    5.0  3.6  1.4  0.2     Iris-setosa\n",
      "..   ...  ...  ...  ...             ...\n",
      "145  6.7  3.0  5.2  2.3  Iris-virginica\n",
      "146  6.3  2.5  5.0  1.9  Iris-virginica\n",
      "147  6.5  3.0  5.2  2.0  Iris-virginica\n",
      "148  6.2  3.4  5.4  2.3  Iris-virginica\n",
      "149  5.9  3.0  5.1  1.8  Iris-virginica\n",
      "\n",
      "[150 rows x 5 columns]\n"
     ]
    }
   ],
   "source": [
    "# membaca dataset publik\n",
    "data = pd.read_csv(\"dataset/iris.data\", header=None)\n",
    "\n",
    "# menentukan batas outlier\n",
    "q1 = data[0].quantile(0.25)\n",
    "q3 = data[0].quantile(0.75)\n",
    "iqr = q3 - q1\n",
    "lower_bound = q1 - (1.5 * iqr)\n",
    "upper_bound = q3 + (1.5 * iqr)\n",
    "\n",
    "# menggantikan outlier dengan nilai rata-rata\n",
    "data[0] = data[0].apply(lambda x: data[0].mean() if x < lower_bound or x > upper_bound else x)\n",
    "\n",
    "# menggantikan outlier dengan nilai median\n",
    "data[0] = data[0].apply(lambda x: data[0].median() if x < lower_bound or x > upper_bound else x)\n",
    "\n",
    "# menampilkan dataset yang telah diubah\n",
    "print(data)"
   ]
  },
  {
   "cell_type": "markdown",
   "metadata": {},
   "source": [
    "## Mengisi nilai kosong dengan nilai yang sering muncul"
   ]
  },
  {
   "cell_type": "code",
   "execution_count": 9,
   "metadata": {},
   "outputs": [
    {
     "name": "stdout",
     "output_type": "stream",
     "text": [
      "Informasi tentang dataset Titanic sebelum pengisian nilai kosong:\n",
      "<class 'pandas.core.frame.DataFrame'>\n",
      "RangeIndex: 891 entries, 0 to 890\n",
      "Data columns (total 12 columns):\n",
      " #   Column       Non-Null Count  Dtype  \n",
      "---  ------       --------------  -----  \n",
      " 0   PassengerId  891 non-null    int64  \n",
      " 1   Survived     891 non-null    int64  \n",
      " 2   Pclass       891 non-null    int64  \n",
      " 3   Name         891 non-null    object \n",
      " 4   Sex          891 non-null    object \n",
      " 5   Age          714 non-null    float64\n",
      " 6   SibSp        891 non-null    int64  \n",
      " 7   Parch        891 non-null    int64  \n",
      " 8   Ticket       891 non-null    object \n",
      " 9   Fare         891 non-null    float64\n",
      " 10  Cabin        204 non-null    object \n",
      " 11  Embarked     889 non-null    object \n",
      "dtypes: float64(2), int64(5), object(5)\n",
      "memory usage: 83.7+ KB\n",
      "None\n",
      "\n",
      "Informasi tentang dataset Titanic setelah pengisian nilai kosong:\n",
      "<class 'pandas.core.frame.DataFrame'>\n",
      "RangeIndex: 891 entries, 0 to 890\n",
      "Data columns (total 12 columns):\n",
      " #   Column       Non-Null Count  Dtype  \n",
      "---  ------       --------------  -----  \n",
      " 0   PassengerId  891 non-null    int64  \n",
      " 1   Survived     891 non-null    int64  \n",
      " 2   Pclass       891 non-null    int64  \n",
      " 3   Name         891 non-null    object \n",
      " 4   Sex          891 non-null    object \n",
      " 5   Age          714 non-null    float64\n",
      " 6   SibSp        891 non-null    int64  \n",
      " 7   Parch        891 non-null    int64  \n",
      " 8   Ticket       891 non-null    object \n",
      " 9   Fare         891 non-null    float64\n",
      " 10  Cabin        204 non-null    object \n",
      " 11  Embarked     891 non-null    object \n",
      "dtypes: float64(2), int64(5), object(5)\n",
      "memory usage: 83.7+ KB\n",
      "None\n"
     ]
    }
   ],
   "source": [
    "# Load dataset Titanic dari file CSV\n",
    "titanic_df4 = pd.read_csv(\"dataset/titanic.csv\")\n",
    "\n",
    "# Tampilkan informasi mengenai dataset, termasuk jumlah nilai yang hilang di setiap kolom sebelum pengisian\n",
    "print(\"Informasi tentang dataset Titanic sebelum pengisian nilai kosong:\")\n",
    "print(titanic_df4.info())\n",
    "\n",
    "# Mengisi nilai kosong pada kolom 'Embarked' dengan nilai yang sering muncul (mode) dari kolom tersebut\n",
    "embarked_mode = titanic_df4['Embarked'].mode()[0]\n",
    "titanic_df4['Embarked'].fillna(embarked_mode, inplace=True)\n",
    "\n",
    "# Tampilkan informasi tentang dataset setelah pengisian nilai kosong\n",
    "print(\"\\nInformasi tentang dataset Titanic setelah pengisian nilai kosong:\")\n",
    "print(titanic_df4.info())"
   ]
  },
  {
   "cell_type": "markdown",
   "metadata": {},
   "source": [
    "# Menangani Format yang Tidak Konsisten\n",
    "\n",
    "Format Tidak Konsisten terjadi ketika data memiliki format yang sama atau tidak sesuai dengan format yang diharapkan. Sering terjadi pada pemformatan tanggal, bulan, dan tahun."
   ]
  },
  {
   "cell_type": "markdown",
   "metadata": {},
   "source": [
    "## Mengubah format data menjadi format yang konsisten seperti mengubah format tanggal menjadi format yang sama"
   ]
  },
  {
   "cell_type": "code",
   "execution_count": 10,
   "metadata": {},
   "outputs": [
    {
     "name": "stdout",
     "output_type": "stream",
     "text": [
      "Dataset sebelum perubahan format:\n",
      "      Tanggal\n",
      "0  2021-08-01\n",
      "1  02-08-2021\n",
      "2  2021/08/03\n",
      "3    20210804\n",
      "\n",
      "Dataset setelah perubahan format:\n",
      "      Tanggal\n",
      "0  2021-08-01\n",
      "1         NaN\n",
      "2         NaN\n",
      "3         NaN\n"
     ]
    }
   ],
   "source": [
    "# Contoh dataset dengan kolom tanggal dalam format yang berbeda\n",
    "data = {\n",
    "    'Tanggal': ['2021-08-01', '02-08-2021', '2021/08/03', '20210804']\n",
    "}\n",
    "df = pd.DataFrame(data)\n",
    "\n",
    "# Tampilkan dataset sebelum perubahan format\n",
    "print(\"Dataset sebelum perubahan format:\")\n",
    "print(df)\n",
    "\n",
    "# Ubah format tanggal menjadi format yang sama (YYYY-MM-DD)\n",
    "df['Tanggal'] = pd.to_datetime(df['Tanggal'], errors='coerce').dt.strftime('%Y-%m-%d')\n",
    "\n",
    "# Tampilkan dataset setelah perubahan format\n",
    "print(\"\\nDataset setelah perubahan format:\")\n",
    "print(df)"
   ]
  },
  {
   "cell_type": "markdown",
   "metadata": {},
   "source": [
    "## Memperbaiki data yang salah ketik atau typo"
   ]
  },
  {
   "cell_type": "code",
   "execution_count": 11,
   "metadata": {},
   "outputs": [
    {
     "name": "stdout",
     "output_type": "stream",
     "text": [
      "Dataset sebelum pembersihan data:\n",
      "     sepal length (cm)  sepal width (cm)  petal length (cm)  petal width (cm)  \\\n",
      "0                  5.1               3.5                1.4               0.2   \n",
      "1                  4.9               3.6                1.4               0.2   \n",
      "2                  4.7               3.2                1.3               0.2   \n",
      "3                  4.6               3.1                1.5               0.2   \n",
      "4                  5.0               3.6                1.4               0.2   \n",
      "..                 ...               ...                ...               ...   \n",
      "145                6.7               3.0                5.2               2.3   \n",
      "146                6.3               2.5                5.0               1.9   \n",
      "147                6.5               3.0                5.2               2.0   \n",
      "148                6.2               3.4                5.4               2.3   \n",
      "149                5.9               3.0                5.1               1.8   \n",
      "\n",
      "       species  \n",
      "0       setosa  \n",
      "1       setosa  \n",
      "2       setosa  \n",
      "3       setosa  \n",
      "4       setosa  \n",
      "..         ...  \n",
      "145  virginica  \n",
      "146  virginica  \n",
      "147  virginica  \n",
      "148  virginica  \n",
      "149  virginica  \n",
      "\n",
      "[150 rows x 5 columns]\n",
      "\n",
      "Dataset setelah pembersihan data:\n",
      "     sepal length (cm)  sepal width (cm)  petal length (cm)  petal width (cm)  \\\n",
      "0                  5.1               3.5                1.4               0.2   \n",
      "1                  4.9               3.0                1.4               0.2   \n",
      "2                  4.7               3.2                1.3               0.2   \n",
      "3                  4.6               3.1                1.5               0.2   \n",
      "4                  5.0               3.0                1.4               0.2   \n",
      "..                 ...               ...                ...               ...   \n",
      "145                6.7               3.0                5.2               2.3   \n",
      "146                6.3               2.5                5.0               1.9   \n",
      "147                6.5               3.0                5.2               2.0   \n",
      "148                6.2               3.4                5.4               2.3   \n",
      "149                5.9               3.0                5.1               1.8   \n",
      "\n",
      "       species  \n",
      "0       setosa  \n",
      "1       setosa  \n",
      "2       setosa  \n",
      "3       setosa  \n",
      "4       setosa  \n",
      "..         ...  \n",
      "145  virginica  \n",
      "146  virginica  \n",
      "147  virginica  \n",
      "148  virginica  \n",
      "149  virginica  \n",
      "\n",
      "[150 rows x 5 columns]\n"
     ]
    }
   ],
   "source": [
    "# Load dataset Iris dari scikit-learn\n",
    "data = load_iris()\n",
    "iris_df = pd.DataFrame(data.data, columns=data.feature_names)\n",
    "iris_df['species'] = data.target_names[data.target]\n",
    "\n",
    "# Contoh data dengan salah ketik atau typo\n",
    "iris_df.iloc[0, 0] = 5.1\n",
    "iris_df.iloc[1, 1] = 3.6\n",
    "\n",
    "# Tampilkan dataset sebelum pembersihan data\n",
    "print(\"Dataset sebelum pembersihan data:\")\n",
    "print(iris_df)\n",
    "\n",
    "# Koreksi data salah ketik atau typo\n",
    "# Misalnya, jika nilai 3.6 pada kolom 'sepal width (cm)' seharusnya 3.0\n",
    "iris_df.loc[iris_df['sepal width (cm)'] == 3.6, 'sepal width (cm)'] = 3.0\n",
    "\n",
    "# Tampilkan dataset setelah pembersihan data\n",
    "print(\"\\nDataset setelah pembersihan data:\")\n",
    "print(iris_df)"
   ]
  },
  {
   "cell_type": "markdown",
   "metadata": {},
   "source": [
    "# Menangani Malformed Record\n",
    "Malformed Record terjadi saat ketika data tidak memenuhi format atau struktur yang diharapkan."
   ]
  },
  {
   "cell_type": "markdown",
   "metadata": {},
   "source": [
    "## Menghapus record yang tidak sesuai dengan format atau struktur yang diharapkan"
   ]
  },
  {
   "cell_type": "code",
   "execution_count": 12,
   "metadata": {},
   "outputs": [
    {
     "name": "stdout",
     "output_type": "stream",
     "text": [
      "     5.1  3.5  1.4  0.2     Iris-setosa\n",
      "0    4.9  3.0  1.4  0.2     Iris-setosa\n",
      "1    4.7  3.2  1.3  0.2     Iris-setosa\n",
      "2    4.6  3.1  1.5  0.2     Iris-setosa\n",
      "3    5.0  3.6  1.4  0.2     Iris-setosa\n",
      "4    5.4  3.9  1.7  0.4     Iris-setosa\n",
      "..   ...  ...  ...  ...             ...\n",
      "144  6.7  3.0  5.2  2.3  Iris-virginica\n",
      "145  6.3  2.5  5.0  1.9  Iris-virginica\n",
      "146  6.5  3.0  5.2  2.0  Iris-virginica\n",
      "147  6.2  3.4  5.4  2.3  Iris-virginica\n",
      "148  5.9  3.0  5.1  1.8  Iris-virginica\n",
      "\n",
      "[149 rows x 5 columns]\n"
     ]
    }
   ],
   "source": [
    "#| code-fold: true\n",
    "\n",
    "# membaca dataset dari file csv\n",
    "data = pd.read_csv('dataset/iris.csv')\n",
    "\n",
    "# fungsi untuk melakukan pengecekan format atau struktur pada setiap record dalam dataset\n",
    "def format_check(record):\n",
    "# implementasi pengecekan format atau struktur pada satu record\n",
    "# return True jika format atau struktur sesuai, False jika tidak sesuai\n",
    "    return True\n",
    "\n",
    "# melakukan iterasi pada setiap record dalam dataset\n",
    "for index, row in data.iterrows():\n",
    "    # cek apakah format atau struktur record sesuai dengan yang diharapkan\n",
    "    if not format_check(row):\n",
    "        # jika tidak sesuai, hapus record dari dataset\n",
    "        data = data.drop(index)\n",
    "\n",
    "# menampilkan dataset yang telah diubah\n",
    "print(data)"
   ]
  },
  {
   "cell_type": "code",
   "execution_count": 13,
   "metadata": {},
   "outputs": [
    {
     "name": "stdout",
     "output_type": "stream",
     "text": [
      "     5.1  3.5  1.4  0.2     Iris-setosa\n",
      "0    4.9  3.0  1.4  0.2     Iris-setosa\n",
      "1    4.7  3.2  1.3  0.2     Iris-setosa\n",
      "2    4.6  3.1  1.5  0.2     Iris-setosa\n",
      "3    5.0  3.6  1.4  0.2     Iris-setosa\n",
      "4    5.4  3.9  1.7  0.4     Iris-setosa\n",
      "..   ...  ...  ...  ...             ...\n",
      "144  6.7  3.0  5.2  2.3  Iris-virginica\n",
      "145  6.3  2.5  5.0  1.9  Iris-virginica\n",
      "146  6.5  3.0  5.2  2.0  Iris-virginica\n",
      "147  6.2  3.4  5.4  2.3  Iris-virginica\n",
      "148  5.9  3.0  5.1  1.8  Iris-virginica\n",
      "\n",
      "[149 rows x 5 columns]\n"
     ]
    }
   ],
   "source": [
    "# membaca dataset\n",
    "data = pd.read_csv(\"dataset/iris.csv\")\n",
    "\n",
    "# mengecek dan menghapus record yang tidak sesuai dengan format atau struktur yang diharapkan\n",
    "for i, row in data.iterrows():\n",
    "    if not format_check(row):\n",
    "        data.drop(i, inplace=True)\n",
    "\n",
    "# menampilkan dataset yang telah diubah\n",
    "print(data)"
   ]
  },
  {
   "cell_type": "markdown",
   "metadata": {},
   "source": [
    "##  Mengubah record yang tidak sesuai dengan format atau struktur yang diharapkan"
   ]
  },
  {
   "cell_type": "code",
   "execution_count": 14,
   "metadata": {},
   "outputs": [
    {
     "name": "stdout",
     "output_type": "stream",
     "text": [
      "     5.1  3.5  1.4  0.2     Iris-setosa\n",
      "0    4.9  3.0  1.4  0.2     Iris-setosa\n",
      "1    4.7  3.2  1.3  0.2     Iris-setosa\n",
      "2    4.6  3.1  1.5  0.2     Iris-setosa\n",
      "3    5.0  3.6  1.4  0.2     Iris-setosa\n",
      "4    5.4  3.9  1.7  0.4     Iris-setosa\n",
      "..   ...  ...  ...  ...             ...\n",
      "144  6.7  3.0  5.2  2.3  Iris-virginica\n",
      "145  6.3  2.5  5.0  1.9  Iris-virginica\n",
      "146  6.5  3.0  5.2  2.0  Iris-virginica\n",
      "147  6.2  3.4  5.4  2.3  Iris-virginica\n",
      "148  5.9  3.0  5.1  1.8  Iris-virginica\n",
      "\n",
      "[149 rows x 5 columns]\n"
     ]
    }
   ],
   "source": [
    "# fungsi untuk melakukan pengecekan format atau struktur pada setiap record dalam dataset\n",
    "def format_check(record):\n",
    "    # implementasi pengecekan format atau struktur pada satu record\n",
    "    # return True jika format atau struktur sesuai, False jika tidak sesuai\n",
    "    return True\n",
    "\n",
    "# melakukan iterasi pada setiap record dalam dataset\n",
    "for index, row in data.iterrows():\n",
    "    # cek apakah format atau struktur record sesuai dengan yang diharapkan\n",
    "    if not format_check(row):\n",
    "        # jika tidak sesuai, hapus record dari dataset\n",
    "        data = data.drop(index)\n",
    "\n",
    "# menampilkan dataset yang telah diubah\n",
    "print(data)"
   ]
  }
 ],
 "metadata": {
  "kernelspec": {
   "display_name": "Python 3",
   "language": "python",
   "name": "python3"
  },
  "language_info": {
   "codemirror_mode": {
    "name": "ipython",
    "version": 3
   },
   "file_extension": ".py",
   "mimetype": "text/x-python",
   "name": "python",
   "nbconvert_exporter": "python",
   "pygments_lexer": "ipython3",
   "version": "3.10.6"
  },
  "orig_nbformat": 4
 },
 "nbformat": 4,
 "nbformat_minor": 2
}
