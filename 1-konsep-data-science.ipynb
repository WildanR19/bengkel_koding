{
 "cells": [
  {
   "cell_type": "markdown",
   "metadata": {},
   "source": [
    "# Konsep Data Science\n",
    "Data science adalah bidang yang berkaitan dengan ekstraksi pengetahuan dan wawasan dari data."
   ]
  },
  {
   "cell_type": "markdown",
   "metadata": {},
   "source": [
    "## Workflow"
   ]
  },
  {
   "cell_type": "markdown",
   "metadata": {},
   "source": [
    "<img src=\"img/workflow.png\" style=\"height:300px\" /> "
   ]
  },
  {
   "cell_type": "markdown",
   "metadata": {},
   "source": [
    "## Big Data\n",
    "Big data mempunyai karakteristik yang dinamakan 5V"
   ]
  },
  {
   "cell_type": "markdown",
   "metadata": {},
   "source": [
    "<img src=\"img/bigdata.png\" style=\"height:250px\" /> "
   ]
  },
  {
   "cell_type": "markdown",
   "metadata": {},
   "source": [
    "## Tahap Pengembangan Sistem AI Berbasis Big Data\n",
    "\n",
    "### Software Development Life Cycle (SDLC)\n",
    "Metode SDLC (Software Development Life Cycle) adalah proses pembuatan dan pengubahan sistem serta model dan metodologi yang digunakan untuk mengembangkan sistem rekayasa perangkat lunak."
   ]
  },
  {
   "cell_type": "markdown",
   "metadata": {},
   "source": [
    "<img src=\"img/sdlc.png\" style=\"height:400px\" /> "
   ]
  },
  {
   "cell_type": "markdown",
   "metadata": {},
   "source": [
    "## Jenis-jenis SDLC"
   ]
  },
  {
   "cell_type": "markdown",
   "metadata": {},
   "source": [
    "1. Agile\n",
    "\n",
    "Metode pengembangan Agile adalah pendekatan kolaboratif dan iteratif dalam pengembangan perangkat lunak. Dalam metode ini, pengembangan dilakukan dalam iterasi kecil yang disebut “sprints”\n",
    "\n",
    "Kelebihan\n",
    "\n",
    " - Fleksibilitas tinggi\n",
    " - Kolaborasi erat antar tim\n",
    " - Aplikasi di-update secara rutin\n",
    " - Fokus kepada kebutuhan pengguna\n",
    "\n",
    "Kekurangan\n",
    "\n",
    " - Sulitnya merencanakan anggaran dan timeline\n",
    " - Memerlukan tingkat disiplin yang tinggi dan pengawasan konstan\n",
    " - Kurang efektif untuk project skala besar"
   ]
  },
  {
   "cell_type": "markdown",
   "metadata": {},
   "source": [
    "2. Waterfall\n",
    "\n",
    "Metode pengembangan Waterfall adalah pendekatan linier dan berurutan dalam pengembangan perangkat lunak. Dalam metode ini, setiap fase pengembangan (analisis kebutuhan, desain, implementasi, pengujian, dan pemeliharaan) dilakukan secara berurutan, di mana setiap fase harus selesai sebelum melanjutkan ke fase berikutnya.\n",
    "\n",
    "Kelebihan\n",
    "\n",
    "- Struktur yang jelas\n",
    "- Dokumentasi lengkap dan rapi\n",
    "- Cocok untuk proyek yang kebutuhannya tidak berubah-ubah\n",
    "\n",
    "Kekurangan\n",
    "\n",
    "- Kurang fleksibel ketika menghadapi kebutuhan yang berubah\n",
    "- Keterbatasan dalam kolaborasi dan feedback\n",
    "- Risiko terlambatnya mendeteksi kesalahan/glitch"
   ]
  },
  {
   "cell_type": "markdown",
   "metadata": {},
   "source": [
    "3. Prototype\n",
    "\n",
    "Metode pengembangan prototyping adalah pendekatan dalam pengembangan perangkat lunak di mana prototipe perangkat lunak awal dibuat dan digunakan untuk mengumpulkan umpan balik dari pengguna dan pemangku kepentingan. Prototipe tersebut dapat berupa versi sederhana atau parsial dari perangkat lunak yang akhir.\n",
    "\n",
    "Kelebihan\n",
    "\n",
    "- Feedback didapatkan lebih awal\n",
    "- Klarifikasi kebutuhan lebih jelas\n",
    "- Meningkatkan kolaborasi tim\n",
    "\n",
    "Kelemahan\n",
    "\n",
    "- Membutuhkan banyak waktu dan sumber daya\n",
    "- Potensi kesalahan di aspek desain dan efisiensi besar\n",
    "- Kesulitan dalam timing untuk berhenti mengembangkan prototipe"
   ]
  },
  {
   "cell_type": "markdown",
   "metadata": {},
   "source": [
    "## Rapid Application Development (RAD)\n",
    "\n",
    "Metode pengembangan Rapid Application Development (RAD) adalah pendekatan iteratif dan kolaboratif dalam pengembangan perangkat lunak yang menekankan kecepatan, fleksibilitas, dan keterlibatan pengguna. Dalam metode ini, pengembangan dilakukan dalam siklus pendek yang disebut “iterasi” dan melibatkan partisipasi aktif dari pengguna.\n",
    "\n",
    "Kelebihan\n",
    "\n",
    "- Waktu pengembangan cepat\n",
    "- Keterlibatan pengguna secara sering dan langsung\n",
    "- Fleksibilitas tinggi\n",
    "- Tingginya kolaborasi terhadap developer dan pengguna\n",
    "\n",
    "Kelemahan\n",
    "\n",
    "- Ketergantungan terhadap pengguna tinggi\n",
    "- Sulit untuk diskalakan\n",
    "- Kualitas dan efisiensi arsitektur rendah"
   ]
  }
 ],
 "metadata": {
  "language_info": {
   "name": "python"
  }
 },
 "nbformat": 4,
 "nbformat_minor": 2
}
